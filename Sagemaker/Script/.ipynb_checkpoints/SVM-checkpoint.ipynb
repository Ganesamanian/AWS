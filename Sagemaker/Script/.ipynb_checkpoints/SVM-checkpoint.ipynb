{
 "cells": [
  {
   "cell_type": "markdown",
   "id": "2ed28176",
   "metadata": {},
   "source": [
    "# Writing entry point script"
   ]
  },
  {
   "cell_type": "code",
   "execution_count": 1,
   "id": "a866876e",
   "metadata": {},
   "outputs": [
    {
     "name": "stdout",
     "output_type": "stream",
     "text": [
      "Overwriting svm-train.py\n"
     ]
    }
   ],
   "source": [
    "%%writefile svm-train.py\n",
    "\n",
    "# Used to train and load the model using Sagemaker API\n",
    "\n",
    "import os\n",
    "import argparse\n",
    "import joblib\n",
    "import time\n",
    "import pandas as pd\n",
    "import numpy as np\n",
    "from sklearn.svm import SVC  # Import SVM classifier\n",
    "from sklearn.model_selection import train_test_split\n",
    "from sklearn.metrics import accuracy_score\n",
    "\n",
    "# Loading model to predict\n",
    "def model_fn(model_dir):\n",
    "    clf = joblib.load(os.path.join(model_dir, \"svm_model.joblib\"))\n",
    "    return clf\n",
    "\n",
    "if __name__ == '__main__':\n",
    "    parser = argparse.ArgumentParser()\n",
    "    parser.add_argument('--train', type=str, default=os.environ.get('SM_CHANNEL_TRAIN'))\n",
    "    parser.add_argument('--train-file', type=str, default=\"train.csv\")\n",
    "    parser.add_argument('--model-dir', type=str, default=os.environ.get('SM_MODEL_DIR'))\n",
    "    parser.add_argument('--kernel', type=str, default='linear')  # Add this line to accept the kernel parameter\n",
    "    parser.add_argument('--C', type=float, default=1.0)  # Add this line to accept the 'C' hyperparameter\n",
    "    args, _ = parser.parse_known_args()\n",
    "\n",
    "    # Load training data from the SageMaker channel\n",
    "    train_data = pd.read_csv(os.path.join(args.train, args.train_file))\n",
    "\n",
    "    # Separate features and labels\n",
    "    X = train_data.iloc[:, :-1].values\n",
    "    y = train_data['label'].values\n",
    "\n",
    "    # Split the data into training and validation sets\n",
    "    X_train, X_val, y_train, y_val = train_test_split(X, y, test_size=0.1, random_state=42)\n",
    "\n",
    "    # Instantiate and train the SVM model\n",
    "    svm_classifier = SVC(kernel=args.kernel, C=args.C, random_state=0)  # You can choose a different kernel if needed (e.g., 'rbf')\n",
    "    svm_classifier.fit(X_train, y_train)\n",
    "\n",
    "    # Make predictions on the validation set\n",
    "    val_predictions = svm_classifier.predict(X_val)\n",
    "\n",
    "    # Calculate the validation accuracy\n",
    "    val_accuracy = accuracy_score(y_val, val_predictions)\n",
    "\n",
    "    # Print the validation accuracy\n",
    "    print(f\"Validation Accuracy: {val_accuracy}\")\n",
    "\n",
    "    # Save the trained model to the model directory\n",
    "    model_path = os.path.join(args.model_dir, 'svm_model.joblib')\n",
    "    joblib.dump(svm_classifier, model_path)\n",
    "\n",
    "    print(f\"Model saved at {model_path}\")\n",
    "\n"
   ]
  },
  {
   "cell_type": "markdown",
   "id": "22bb20ba",
   "metadata": {},
   "source": [
    "# Header Declaration"
   ]
  },
  {
   "cell_type": "code",
   "execution_count": 2,
   "id": "34af0437",
   "metadata": {},
   "outputs": [
    {
     "name": "stdout",
     "output_type": "stream",
     "text": [
      "sagemaker.config INFO - Not applying SDK defaults from location: /etc/xdg/sagemaker/config.yaml\n",
      "sagemaker.config INFO - Not applying SDK defaults from location: /home/ec2-user/.config/sagemaker/config.yaml\n"
     ]
    }
   ],
   "source": [
    "import numpy as np\n",
    "import pandas as pd\n",
    "import matplotlib.pyplot as plt\n",
    "%matplotlib inline\n",
    "plt.rcParams[\"figure.figsize\"] = [10, 5]\n",
    "import seaborn as sns\n",
    "from scipy import stats\n",
    "from sklearn.metrics import confusion_matrix, classification_report, accuracy_score\n",
    "from sklearn.model_selection import train_test_split\n",
    "import time\n",
    "\n",
    "#Define IAM Role\n",
    "import boto3\n",
    "import sagemaker\n",
    "from sagemaker.sklearn.estimator import SKLearn\n",
    "from sagemaker.predictor import Predictor\n",
    "from sagemaker.sklearn.model import SKLearnModel\n",
    "from sagemaker.tuner import HyperparameterTuner, IntegerParameter, ContinuousParameter, CategoricalParameter"
   ]
  },
  {
   "cell_type": "markdown",
   "id": "dfd01836",
   "metadata": {},
   "source": [
    "# Sagemaker varaible declaration"
   ]
  },
  {
   "cell_type": "code",
   "execution_count": 3,
   "id": "999731ce",
   "metadata": {},
   "outputs": [
    {
     "name": "stdout",
     "output_type": "stream",
     "text": [
      "sagemaker.config INFO - Not applying SDK defaults from location: /etc/xdg/sagemaker/config.yaml\n",
      "sagemaker.config INFO - Not applying SDK defaults from location: /home/ec2-user/.config/sagemaker/config.yaml\n",
      "sagemaker.config INFO - Not applying SDK defaults from location: /etc/xdg/sagemaker/config.yaml\n",
      "sagemaker.config INFO - Not applying SDK defaults from location: /home/ec2-user/.config/sagemaker/config.yaml\n"
     ]
    }
   ],
   "source": [
    "# Set SageMaker and S3 client variables\n",
    "sess = sagemaker.Session()\n",
    "\n",
    "s3_region =  'us-east-1'\n",
    "s3_client = boto3.client(\"s3\", region_name=s3_region)\n",
    "sm_boto3 = boto3.client(\"sagemaker\")\n",
    "\n",
    "sagemaker_role = sagemaker.get_execution_role()\n",
    "\n",
    "bucket_name = 'bucket--ganesh'\n",
    "read_prefix = 'Project/RF-try'\n",
    "\n",
    "input_file_name = \"advertising.csv\"\n",
    "train_file_name = \"train.csv\"\n",
    "\n",
    "input_file_path = f\"s3://{bucket_name}/{read_prefix}/Data/\"\n",
    "train_file_path = f\"s3://{bucket_name}/{read_prefix}/Data/\""
   ]
  },
  {
   "cell_type": "markdown",
   "id": "0f0d1814",
   "metadata": {},
   "source": [
    "# Loading the data"
   ]
  },
  {
   "cell_type": "code",
   "execution_count": 4,
   "id": "70862b8f",
   "metadata": {},
   "outputs": [
    {
     "data": {
      "text/html": [
       "<div>\n",
       "<style scoped>\n",
       "    .dataframe tbody tr th:only-of-type {\n",
       "        vertical-align: middle;\n",
       "    }\n",
       "\n",
       "    .dataframe tbody tr th {\n",
       "        vertical-align: top;\n",
       "    }\n",
       "\n",
       "    .dataframe thead th {\n",
       "        text-align: right;\n",
       "    }\n",
       "</style>\n",
       "<table border=\"1\" class=\"dataframe\">\n",
       "  <thead>\n",
       "    <tr style=\"text-align: right;\">\n",
       "      <th></th>\n",
       "      <th>Daily Time Spent on Site</th>\n",
       "      <th>Age</th>\n",
       "      <th>Area Income</th>\n",
       "      <th>Daily Internet Usage</th>\n",
       "      <th>Ad Topic Line</th>\n",
       "      <th>City</th>\n",
       "      <th>Male</th>\n",
       "      <th>Country</th>\n",
       "      <th>Timestamp</th>\n",
       "      <th>Clicked on Ad</th>\n",
       "    </tr>\n",
       "  </thead>\n",
       "  <tbody>\n",
       "    <tr>\n",
       "      <th>0</th>\n",
       "      <td>68.95</td>\n",
       "      <td>35</td>\n",
       "      <td>61833.90</td>\n",
       "      <td>256.09</td>\n",
       "      <td>Cloned 5thgeneration orchestration</td>\n",
       "      <td>Wrightburgh</td>\n",
       "      <td>0</td>\n",
       "      <td>Tunisia</td>\n",
       "      <td>2016-03-27 00:53:11</td>\n",
       "      <td>0</td>\n",
       "    </tr>\n",
       "    <tr>\n",
       "      <th>1</th>\n",
       "      <td>80.23</td>\n",
       "      <td>31</td>\n",
       "      <td>68441.85</td>\n",
       "      <td>193.77</td>\n",
       "      <td>Monitored national standardization</td>\n",
       "      <td>West Jodi</td>\n",
       "      <td>1</td>\n",
       "      <td>Nauru</td>\n",
       "      <td>2016-04-04 01:39:02</td>\n",
       "      <td>0</td>\n",
       "    </tr>\n",
       "    <tr>\n",
       "      <th>2</th>\n",
       "      <td>69.47</td>\n",
       "      <td>26</td>\n",
       "      <td>59785.94</td>\n",
       "      <td>236.50</td>\n",
       "      <td>Organic bottom-line service-desk</td>\n",
       "      <td>Davidton</td>\n",
       "      <td>0</td>\n",
       "      <td>San Marino</td>\n",
       "      <td>2016-03-13 20:35:42</td>\n",
       "      <td>0</td>\n",
       "    </tr>\n",
       "    <tr>\n",
       "      <th>3</th>\n",
       "      <td>74.15</td>\n",
       "      <td>29</td>\n",
       "      <td>54806.18</td>\n",
       "      <td>245.89</td>\n",
       "      <td>Triple-buffered reciprocal time-frame</td>\n",
       "      <td>West Terrifurt</td>\n",
       "      <td>1</td>\n",
       "      <td>Italy</td>\n",
       "      <td>2016-01-10 02:31:19</td>\n",
       "      <td>0</td>\n",
       "    </tr>\n",
       "    <tr>\n",
       "      <th>4</th>\n",
       "      <td>68.37</td>\n",
       "      <td>35</td>\n",
       "      <td>73889.99</td>\n",
       "      <td>225.58</td>\n",
       "      <td>Robust logistical utilization</td>\n",
       "      <td>South Manuel</td>\n",
       "      <td>0</td>\n",
       "      <td>Iceland</td>\n",
       "      <td>2016-06-03 03:36:18</td>\n",
       "      <td>0</td>\n",
       "    </tr>\n",
       "    <tr>\n",
       "      <th>...</th>\n",
       "      <td>...</td>\n",
       "      <td>...</td>\n",
       "      <td>...</td>\n",
       "      <td>...</td>\n",
       "      <td>...</td>\n",
       "      <td>...</td>\n",
       "      <td>...</td>\n",
       "      <td>...</td>\n",
       "      <td>...</td>\n",
       "      <td>...</td>\n",
       "    </tr>\n",
       "    <tr>\n",
       "      <th>995</th>\n",
       "      <td>72.97</td>\n",
       "      <td>30</td>\n",
       "      <td>71384.57</td>\n",
       "      <td>208.58</td>\n",
       "      <td>Fundamental modular algorithm</td>\n",
       "      <td>Duffystad</td>\n",
       "      <td>1</td>\n",
       "      <td>Lebanon</td>\n",
       "      <td>2016-02-11 21:49:00</td>\n",
       "      <td>1</td>\n",
       "    </tr>\n",
       "    <tr>\n",
       "      <th>996</th>\n",
       "      <td>51.30</td>\n",
       "      <td>45</td>\n",
       "      <td>67782.17</td>\n",
       "      <td>134.42</td>\n",
       "      <td>Grass-roots cohesive monitoring</td>\n",
       "      <td>New Darlene</td>\n",
       "      <td>1</td>\n",
       "      <td>Bosnia and Herzegovina</td>\n",
       "      <td>2016-04-22 02:07:01</td>\n",
       "      <td>1</td>\n",
       "    </tr>\n",
       "    <tr>\n",
       "      <th>997</th>\n",
       "      <td>51.63</td>\n",
       "      <td>51</td>\n",
       "      <td>42415.72</td>\n",
       "      <td>120.37</td>\n",
       "      <td>Expanded intangible solution</td>\n",
       "      <td>South Jessica</td>\n",
       "      <td>1</td>\n",
       "      <td>Mongolia</td>\n",
       "      <td>2016-02-01 17:24:57</td>\n",
       "      <td>1</td>\n",
       "    </tr>\n",
       "    <tr>\n",
       "      <th>998</th>\n",
       "      <td>55.55</td>\n",
       "      <td>19</td>\n",
       "      <td>41920.79</td>\n",
       "      <td>187.95</td>\n",
       "      <td>Proactive bandwidth-monitored policy</td>\n",
       "      <td>West Steven</td>\n",
       "      <td>0</td>\n",
       "      <td>Guatemala</td>\n",
       "      <td>2016-03-24 02:35:54</td>\n",
       "      <td>0</td>\n",
       "    </tr>\n",
       "    <tr>\n",
       "      <th>999</th>\n",
       "      <td>45.01</td>\n",
       "      <td>26</td>\n",
       "      <td>29875.80</td>\n",
       "      <td>178.35</td>\n",
       "      <td>Virtual 5thgeneration emulation</td>\n",
       "      <td>Ronniemouth</td>\n",
       "      <td>0</td>\n",
       "      <td>Brazil</td>\n",
       "      <td>2016-06-03 21:43:21</td>\n",
       "      <td>1</td>\n",
       "    </tr>\n",
       "  </tbody>\n",
       "</table>\n",
       "<p>1000 rows × 10 columns</p>\n",
       "</div>"
      ],
      "text/plain": [
       "     Daily Time Spent on Site  Age  Area Income  Daily Internet Usage  \\\n",
       "0                       68.95   35     61833.90                256.09   \n",
       "1                       80.23   31     68441.85                193.77   \n",
       "2                       69.47   26     59785.94                236.50   \n",
       "3                       74.15   29     54806.18                245.89   \n",
       "4                       68.37   35     73889.99                225.58   \n",
       "..                        ...  ...          ...                   ...   \n",
       "995                     72.97   30     71384.57                208.58   \n",
       "996                     51.30   45     67782.17                134.42   \n",
       "997                     51.63   51     42415.72                120.37   \n",
       "998                     55.55   19     41920.79                187.95   \n",
       "999                     45.01   26     29875.80                178.35   \n",
       "\n",
       "                             Ad Topic Line            City  Male  \\\n",
       "0       Cloned 5thgeneration orchestration     Wrightburgh     0   \n",
       "1       Monitored national standardization       West Jodi     1   \n",
       "2         Organic bottom-line service-desk        Davidton     0   \n",
       "3    Triple-buffered reciprocal time-frame  West Terrifurt     1   \n",
       "4            Robust logistical utilization    South Manuel     0   \n",
       "..                                     ...             ...   ...   \n",
       "995          Fundamental modular algorithm       Duffystad     1   \n",
       "996        Grass-roots cohesive monitoring     New Darlene     1   \n",
       "997           Expanded intangible solution   South Jessica     1   \n",
       "998   Proactive bandwidth-monitored policy     West Steven     0   \n",
       "999        Virtual 5thgeneration emulation     Ronniemouth     0   \n",
       "\n",
       "                    Country            Timestamp  Clicked on Ad  \n",
       "0                   Tunisia  2016-03-27 00:53:11              0  \n",
       "1                     Nauru  2016-04-04 01:39:02              0  \n",
       "2                San Marino  2016-03-13 20:35:42              0  \n",
       "3                     Italy  2016-01-10 02:31:19              0  \n",
       "4                   Iceland  2016-06-03 03:36:18              0  \n",
       "..                      ...                  ...            ...  \n",
       "995                 Lebanon  2016-02-11 21:49:00              1  \n",
       "996  Bosnia and Herzegovina  2016-04-22 02:07:01              1  \n",
       "997                Mongolia  2016-02-01 17:24:57              1  \n",
       "998               Guatemala  2016-03-24 02:35:54              0  \n",
       "999                  Brazil  2016-06-03 21:43:21              1  \n",
       "\n",
       "[1000 rows x 10 columns]"
      ]
     },
     "execution_count": 4,
     "metadata": {},
     "output_type": "execute_result"
    }
   ],
   "source": [
    "# Load the data.\n",
    "data = pd.read_csv(input_file_path + input_file_name)\n",
    "data"
   ]
  },
  {
   "cell_type": "markdown",
   "id": "7f2735d9",
   "metadata": {},
   "source": [
    "# Preprocessing the data"
   ]
  },
  {
   "cell_type": "code",
   "execution_count": 5,
   "id": "321f3be1",
   "metadata": {},
   "outputs": [],
   "source": [
    "# Timestamp conversion to seconds\n",
    "data['Timestamp'] = (pd.to_datetime(data['Timestamp']) - pd.to_datetime(data['Timestamp'][0])).dt.total_seconds()\n",
    "\n",
    "# Drop non-integer columns\n",
    "data = data.drop(columns=['Ad Topic Line', 'Country', 'City'])\n",
    "\n",
    "# Extract features and target variable\n",
    "X = data.iloc[:, 1:-1].values.astype('float64')\n",
    "y = data['Clicked on Ad'].values\n",
    "\n",
    "# Pre-processing - normalization of data\n",
    "X = (X - np.mean(X, axis=0)) / np.std(X, axis=0)\n",
    "\n",
    "# Split the data into training and testing sets\n",
    "X_train, X_test, y_train, y_test = train_test_split(X, y, test_size=0.25, random_state=0)\n",
    "\n",
    "# Write the training data to a file\n",
    "trainX = pd.DataFrame(X_train)\n",
    "trainX['label'] = y_train\n",
    "\n",
    "trainX.to_csv(train_file_path + train_file_name, index=False, header=True)"
   ]
  },
  {
   "cell_type": "markdown",
   "id": "4afd7c67",
   "metadata": {},
   "source": [
    "# Check the working of the script"
   ]
  },
  {
   "cell_type": "code",
   "execution_count": 6,
   "id": "863d4b33",
   "metadata": {},
   "outputs": [
    {
     "name": "stdout",
     "output_type": "stream",
     "text": [
      "Validation Accuracy: 0.84\r\n",
      "Model saved at ./svm_model.joblib\r\n"
     ]
    }
   ],
   "source": [
    "! python svm-train.py  --model-dir ./ \\\n",
    "                       --C 2.0 \\\n",
    "                       --kernel 'sigmoid' ./ \\\n",
    "                       --train {train_file_path} \\                   "
   ]
  },
  {
   "cell_type": "markdown",
   "id": "26fc5c90",
   "metadata": {},
   "source": [
    "# Train the model"
   ]
  },
  {
   "cell_type": "code",
   "execution_count": 7,
   "id": "6c0afb5a",
   "metadata": {},
   "outputs": [
    {
     "name": "stderr",
     "output_type": "stream",
     "text": [
      "INFO:sagemaker:Creating training-job with name: svm-training-2023-10-26-21-59-10-615\n"
     ]
    },
    {
     "name": "stdout",
     "output_type": "stream",
     "text": [
      "Using provided s3_resource\n",
      "2023-10-26 21:59:11 Starting - Starting the training job......\n",
      "2023-10-26 21:59:47 Starting - Preparing the instances for training......\n",
      "2023-10-26 22:00:52 Downloading - Downloading input data...\n",
      "2023-10-26 22:01:22 Training - Downloading the training image...\n",
      "2023-10-26 22:01:52 Training - Training image download completed. Training in progress..\u001b[34m2023-10-26 22:02:07,128 sagemaker-containers INFO     Imported framework sagemaker_sklearn_container.training\u001b[0m\n",
      "\u001b[34m2023-10-26 22:02:07,132 sagemaker-training-toolkit INFO     No GPUs detected (normal if no gpus installed)\u001b[0m\n",
      "\u001b[34m2023-10-26 22:02:07,142 sagemaker_sklearn_container.training INFO     Invoking user training script.\u001b[0m\n",
      "\u001b[34m2023-10-26 22:02:07,356 sagemaker-training-toolkit INFO     No GPUs detected (normal if no gpus installed)\u001b[0m\n",
      "\u001b[34m2023-10-26 22:02:07,369 sagemaker-training-toolkit INFO     No GPUs detected (normal if no gpus installed)\u001b[0m\n",
      "\u001b[34m2023-10-26 22:02:07,385 sagemaker-training-toolkit INFO     No GPUs detected (normal if no gpus installed)\u001b[0m\n",
      "\u001b[34m2023-10-26 22:02:07,395 sagemaker-training-toolkit INFO     Invoking user script\u001b[0m\n",
      "\u001b[34mTraining Env:\u001b[0m\n",
      "\u001b[34m{\n",
      "    \"additional_framework_parameters\": {},\n",
      "    \"channel_input_dirs\": {\n",
      "        \"train\": \"/opt/ml/input/data/train\"\n",
      "    },\n",
      "    \"current_host\": \"algo-1\",\n",
      "    \"framework_module\": \"sagemaker_sklearn_container.training:main\",\n",
      "    \"hosts\": [\n",
      "        \"algo-1\"\n",
      "    ],\n",
      "    \"hyperparameters\": {},\n",
      "    \"input_config_dir\": \"/opt/ml/input/config\",\n",
      "    \"input_data_config\": {\n",
      "        \"train\": {\n",
      "            \"TrainingInputMode\": \"File\",\n",
      "            \"S3DistributionType\": \"FullyReplicated\",\n",
      "            \"RecordWrapperType\": \"None\"\n",
      "        }\n",
      "    },\n",
      "    \"input_dir\": \"/opt/ml/input\",\n",
      "    \"is_master\": true,\n",
      "    \"job_name\": \"svm-training-2023-10-26-21-59-10-615\",\n",
      "    \"log_level\": 20,\n",
      "    \"master_hostname\": \"algo-1\",\n",
      "    \"model_dir\": \"/opt/ml/model\",\n",
      "    \"module_dir\": \"s3://sagemaker-us-east-1-977473325382/svm-training-2023-10-26-21-59-10-615/source/sourcedir.tar.gz\",\n",
      "    \"module_name\": \"svm-train\",\n",
      "    \"network_interface_name\": \"eth0\",\n",
      "    \"num_cpus\": 4,\n",
      "    \"num_gpus\": 0,\n",
      "    \"output_data_dir\": \"/opt/ml/output/data\",\n",
      "    \"output_dir\": \"/opt/ml/output\",\n",
      "    \"output_intermediate_dir\": \"/opt/ml/output/intermediate\",\n",
      "    \"resource_config\": {\n",
      "        \"current_host\": \"algo-1\",\n",
      "        \"current_instance_type\": \"ml.m4.xlarge\",\n",
      "        \"current_group_name\": \"homogeneousCluster\",\n",
      "        \"hosts\": [\n",
      "            \"algo-1\"\n",
      "        ],\n",
      "        \"instance_groups\": [\n",
      "            {\n",
      "                \"instance_group_name\": \"homogeneousCluster\",\n",
      "                \"instance_type\": \"ml.m4.xlarge\",\n",
      "                \"hosts\": [\n",
      "                    \"algo-1\"\n",
      "                ]\n",
      "            }\n",
      "        ],\n",
      "        \"network_interface_name\": \"eth0\"\n",
      "    },\n",
      "    \"user_entry_point\": \"svm-train.py\"\u001b[0m\n",
      "\u001b[34m}\u001b[0m\n",
      "\u001b[34mEnvironment variables:\u001b[0m\n",
      "\u001b[34mSM_HOSTS=[\"algo-1\"]\u001b[0m\n",
      "\u001b[34mSM_NETWORK_INTERFACE_NAME=eth0\u001b[0m\n",
      "\u001b[34mSM_HPS={}\u001b[0m\n",
      "\u001b[34mSM_USER_ENTRY_POINT=svm-train.py\u001b[0m\n",
      "\u001b[34mSM_FRAMEWORK_PARAMS={}\u001b[0m\n",
      "\u001b[34mSM_RESOURCE_CONFIG={\"current_group_name\":\"homogeneousCluster\",\"current_host\":\"algo-1\",\"current_instance_type\":\"ml.m4.xlarge\",\"hosts\":[\"algo-1\"],\"instance_groups\":[{\"hosts\":[\"algo-1\"],\"instance_group_name\":\"homogeneousCluster\",\"instance_type\":\"ml.m4.xlarge\"}],\"network_interface_name\":\"eth0\"}\u001b[0m\n",
      "\u001b[34mSM_INPUT_DATA_CONFIG={\"train\":{\"RecordWrapperType\":\"None\",\"S3DistributionType\":\"FullyReplicated\",\"TrainingInputMode\":\"File\"}}\u001b[0m\n",
      "\u001b[34mSM_OUTPUT_DATA_DIR=/opt/ml/output/data\u001b[0m\n",
      "\u001b[34mSM_CHANNELS=[\"train\"]\u001b[0m\n",
      "\u001b[34mSM_CURRENT_HOST=algo-1\u001b[0m\n",
      "\u001b[34mSM_MODULE_NAME=svm-train\u001b[0m\n",
      "\u001b[34mSM_LOG_LEVEL=20\u001b[0m\n",
      "\u001b[34mSM_FRAMEWORK_MODULE=sagemaker_sklearn_container.training:main\u001b[0m\n",
      "\u001b[34mSM_INPUT_DIR=/opt/ml/input\u001b[0m\n",
      "\u001b[34mSM_INPUT_CONFIG_DIR=/opt/ml/input/config\u001b[0m\n",
      "\u001b[34mSM_OUTPUT_DIR=/opt/ml/output\u001b[0m\n",
      "\u001b[34mSM_NUM_CPUS=4\u001b[0m\n",
      "\u001b[34mSM_NUM_GPUS=0\u001b[0m\n",
      "\u001b[34mSM_MODEL_DIR=/opt/ml/model\u001b[0m\n",
      "\u001b[34mSM_MODULE_DIR=s3://sagemaker-us-east-1-977473325382/svm-training-2023-10-26-21-59-10-615/source/sourcedir.tar.gz\u001b[0m\n",
      "\u001b[34mSM_TRAINING_ENV={\"additional_framework_parameters\":{},\"channel_input_dirs\":{\"train\":\"/opt/ml/input/data/train\"},\"current_host\":\"algo-1\",\"framework_module\":\"sagemaker_sklearn_container.training:main\",\"hosts\":[\"algo-1\"],\"hyperparameters\":{},\"input_config_dir\":\"/opt/ml/input/config\",\"input_data_config\":{\"train\":{\"RecordWrapperType\":\"None\",\"S3DistributionType\":\"FullyReplicated\",\"TrainingInputMode\":\"File\"}},\"input_dir\":\"/opt/ml/input\",\"is_master\":true,\"job_name\":\"svm-training-2023-10-26-21-59-10-615\",\"log_level\":20,\"master_hostname\":\"algo-1\",\"model_dir\":\"/opt/ml/model\",\"module_dir\":\"s3://sagemaker-us-east-1-977473325382/svm-training-2023-10-26-21-59-10-615/source/sourcedir.tar.gz\",\"module_name\":\"svm-train\",\"network_interface_name\":\"eth0\",\"num_cpus\":4,\"num_gpus\":0,\"output_data_dir\":\"/opt/ml/output/data\",\"output_dir\":\"/opt/ml/output\",\"output_intermediate_dir\":\"/opt/ml/output/intermediate\",\"resource_config\":{\"current_group_name\":\"homogeneousCluster\",\"current_host\":\"algo-1\",\"current_instance_type\":\"ml.m4.xlarge\",\"hosts\":[\"algo-1\"],\"instance_groups\":[{\"hosts\":[\"algo-1\"],\"instance_group_name\":\"homogeneousCluster\",\"instance_type\":\"ml.m4.xlarge\"}],\"network_interface_name\":\"eth0\"},\"user_entry_point\":\"svm-train.py\"}\u001b[0m\n",
      "\u001b[34mSM_USER_ARGS=[]\u001b[0m\n",
      "\u001b[34mSM_OUTPUT_INTERMEDIATE_DIR=/opt/ml/output/intermediate\u001b[0m\n",
      "\u001b[34mSM_CHANNEL_TRAIN=/opt/ml/input/data/train\u001b[0m\n",
      "\u001b[34mPYTHONPATH=/opt/ml/code:/miniconda3/bin:/miniconda3/lib/python38.zip:/miniconda3/lib/python3.8:/miniconda3/lib/python3.8/lib-dynload:/miniconda3/lib/python3.8/site-packages\u001b[0m\n",
      "\u001b[34mInvoking script with the following command:\u001b[0m\n",
      "\u001b[34m/miniconda3/bin/python svm-train.py\u001b[0m\n",
      "\u001b[34mValidation Accuracy: 0.9066666666666666\u001b[0m\n",
      "\u001b[34mModel saved at /opt/ml/model/svm_model.joblib\u001b[0m\n",
      "\u001b[34m2023-10-26 22:02:08,479 sagemaker-containers INFO     Reporting training SUCCESS\u001b[0m\n",
      "\n",
      "2023-10-26 22:02:24 Uploading - Uploading generated training model\n",
      "2023-10-26 22:02:24 Completed - Training job completed\n",
      "Training seconds: 93\n",
      "Billable seconds: 93\n"
     ]
    }
   ],
   "source": [
    "# Define the SageMaker Estimator\n",
    "estimator = SKLearn(entry_point=\"svm-train.py\",  # Your training script file\n",
    "                    role=sagemaker_role,      # SageMaker IAM Role\n",
    "                    instance_type=\"ml.m4.xlarge\",  # Choose an appropriate instance type\n",
    "                    sagemaker_session=sess,\n",
    "                    framework_version=\"1.2-1\",  # Your desired scikit-learn version\n",
    "                    base_job_name=\"svm-training\"\n",
    "                   )\n",
    "\n",
    "estimator.fit({'train': train_file_path})"
   ]
  },
  {
   "cell_type": "markdown",
   "id": "37ce099c",
   "metadata": {},
   "source": [
    "# Download the Artifacts of the trained Model"
   ]
  },
  {
   "cell_type": "code",
   "execution_count": 8,
   "id": "8639cb18",
   "metadata": {},
   "outputs": [
    {
     "name": "stdout",
     "output_type": "stream",
     "text": [
      "\n",
      "2023-10-26 22:02:24 Starting - Preparing the instances for training\n",
      "2023-10-26 22:02:24 Downloading - Downloading input data\n",
      "2023-10-26 22:02:24 Training - Training image download completed. Training in progress.\n",
      "2023-10-26 22:02:24 Uploading - Uploading generated training model\n",
      "2023-10-26 22:02:24 Completed - Training job completed\n",
      "Model artifact persisted at s3://sagemaker-us-east-1-977473325382/svm-training-2023-10-26-21-59-10-615/output/model.tar.gz\n"
     ]
    }
   ],
   "source": [
    "estimator.latest_training_job.wait(logs=\"None\")\n",
    "artifact = sm_boto3.describe_training_job(\n",
    "    TrainingJobName=estimator.latest_training_job.name\n",
    ")[\"ModelArtifacts\"][\"S3ModelArtifacts\"]\n",
    "\n",
    "print(\"Model artifact persisted at \" + artifact)"
   ]
  },
  {
   "cell_type": "markdown",
   "id": "862eaf71",
   "metadata": {},
   "source": [
    "# Create Endpoint for the model"
   ]
  },
  {
   "cell_type": "code",
   "execution_count": 9,
   "id": "dccf1880",
   "metadata": {},
   "outputs": [
    {
     "name": "stdout",
     "output_type": "stream",
     "text": [
      "sagemaker.config INFO - Not applying SDK defaults from location: /etc/xdg/sagemaker/config.yaml\n",
      "sagemaker.config INFO - Not applying SDK defaults from location: /home/ec2-user/.config/sagemaker/config.yaml\n",
      "sagemaker.config INFO - Not applying SDK defaults from location: /etc/xdg/sagemaker/config.yaml\n",
      "sagemaker.config INFO - Not applying SDK defaults from location: /home/ec2-user/.config/sagemaker/config.yaml\n"
     ]
    },
    {
     "name": "stderr",
     "output_type": "stream",
     "text": [
      "INFO:sagemaker:Creating model with name: sagemaker-scikit-learn-2023-10-26-22-02-59-358\n",
      "INFO:sagemaker:Creating endpoint-config with name svm-endpoint\n",
      "INFO:sagemaker:Creating endpoint with name svm-endpoint\n"
     ]
    },
    {
     "name": "stdout",
     "output_type": "stream",
     "text": [
      "----!"
     ]
    }
   ],
   "source": [
    "model = SKLearnModel(\n",
    "    model_data=artifact,\n",
    "    role=sagemaker_role,\n",
    "    entry_point=\"svm-train.py\",\n",
    "    framework_version=\"1.2-1\",\n",
    ")\n",
    "\n",
    "# Deploy the trained model to an endpoint\n",
    "predictor = model.deploy(initial_instance_count=1, instance_type='ml.m5.large', endpoint_name='svm-endpoint')"
   ]
  },
  {
   "cell_type": "markdown",
   "id": "09124372",
   "metadata": {},
   "source": [
    "# Predict using the Endpoint"
   ]
  },
  {
   "cell_type": "code",
   "execution_count": 10,
   "id": "4a98e8fd",
   "metadata": {},
   "outputs": [
    {
     "name": "stdout",
     "output_type": "stream",
     "text": [
      "              precision    recall  f1-score   support\n",
      "\n",
      "           0       0.96      0.95      0.96       136\n",
      "           1       0.94      0.96      0.95       114\n",
      "\n",
      "    accuracy                           0.95       250\n",
      "   macro avg       0.95      0.95      0.95       250\n",
      "weighted avg       0.95      0.95      0.95       250\n",
      "\n"
     ]
    },
    {
     "data": {
      "image/png": "[encoded data removed]",
      "text/plain": [
       "<Figure size 800x600 with 2 Axes>"
      ]
     },
     "metadata": {},
     "output_type": "display_data"
    },
    {
     "name": "stdout",
     "output_type": "stream",
     "text": [
      "Accuracy using Random Forest: 95.20%\n"
     ]
    }
   ],
   "source": [
    "predictions = predictor.predict(X_test)\n",
    "print(classification_report(y_test, predictions))\n",
    "\n",
    "cnf_matrix_rf = confusion_matrix(y_test, predictions)\n",
    "\n",
    "# Create a heatmap for the Random Forest confusion matrix\n",
    "plt.figure(figsize=(8, 6))\n",
    "sns.heatmap(cnf_matrix_rf, annot=True, cmap='Blues', fmt='d')\n",
    "plt.xlabel('Predicted')\n",
    "plt.ylabel('Actual')\n",
    "plt.title('Confusion Matrix (SVM)')\n",
    "plt.show()\n",
    "\n",
    "# Calculate and print accuracy\n",
    "acc_rf = accuracy_score(y_test, predictions)\n",
    "print(f\"Accuracy using Random Forest: {acc_rf * 100:.2f}%\")"
   ]
  },
  {
   "cell_type": "markdown",
   "id": "df7fd05d",
   "metadata": {},
   "source": [
    "# Hyperparameter Tuning"
   ]
  },
  {
   "cell_type": "code",
   "execution_count": 12,
   "id": "e5a19020",
   "metadata": {},
   "outputs": [
    {
     "name": "stdout",
     "output_type": "stream",
     "text": [
      "Using provided s3_resource\n"
     ]
    },
    {
     "name": "stderr",
     "output_type": "stream",
     "text": [
      "INFO:sagemaker:Creating hyperparameter tuning job with name: svm-hyperparameter-t-231026-2208\n"
     ]
    },
    {
     "name": "stdout",
     "output_type": "stream",
     "text": [
      "..........................................................................................................!\n",
      "Hyperparameter tuning job has completed.\n"
     ]
    }
   ],
   "source": [
    "# Define hyperparameter ranges and strategy\n",
    "hyperparameter_ranges = {\n",
    "    'C': IntegerParameter(1, 3),  # The regularization parameter\n",
    "    'kernel': CategoricalParameter(['linear', 'rbf', 'poly', 'sigmoid']),  # The kernel type\n",
    "#     'gamma': ContinuousParameter(0.1, 10.0),  # Gamma parameter (used in 'rbf', 'poly', and 'sigmoid' kernels)\n",
    "#     'degree': IntegerParameter(2, 5)  # Degree parameter (used in 'poly' kernel)\n",
    "}\n",
    "\n",
    "objective_metric_name = 'validation:accuracy'\n",
    "\n",
    "# Define the metric definition\n",
    "metric_definitions = [{'Name': 'validation:accuracy', 'Regex': 'Validation Accuracy: ([0-9.]+)'}]\n",
    "\n",
    "\n",
    "# Create a HyperparameterTuner\n",
    "tuner = HyperparameterTuner(\n",
    "    estimator=estimator,\n",
    "    objective_metric_name=objective_metric_name,\n",
    "    hyperparameter_ranges=hyperparameter_ranges,\n",
    "    metric_definitions=metric_definitions,\n",
    "    strategy='Bayesian',  # You can use other strategies like 'Bayesian' or 'Grid'\n",
    "    max_jobs=10,  # Number of hyperparameter combinations to try\n",
    "    max_parallel_jobs=2,  # Number of jobs to run in parallel\n",
    "    base_tuning_job_name='svm-hyperparameter-tuning',\n",
    ")\n",
    "\n",
    "# Start hyperparameter tuning job\n",
    "tuner.fit({'train': train_file_path})\n",
    "\n",
    "while True:\n",
    "    # Check the status of the tuning job\n",
    "    status = sm_boto3.describe_hyper_parameter_tuning_job(\n",
    "        HyperParameterTuningJobName=tuner.latest_tuning_job.job_name\n",
    "    )['HyperParameterTuningJobStatus']\n",
    "    \n",
    "    if status == 'Completed':\n",
    "        print(\"Hyperparameter tuning job has completed.\")\n",
    "        break\n",
    "    elif status == 'Failed' or status == 'Stopped':\n",
    "        print(\"Hyperparameter tuning job has failed or stopped.\")\n",
    "        break\n",
    "    \n",
    "    # Wait for a while before checking again\n",
    "    time.sleep(60)  # You can adjust the polling interval"
   ]
  },
  {
   "cell_type": "markdown",
   "id": "77af2840",
   "metadata": {},
   "source": [
    "# Print each job details"
   ]
  },
  {
   "cell_type": "code",
   "execution_count": 13,
   "id": "47782fc2",
   "metadata": {},
   "outputs": [
    {
     "name": "stdout",
     "output_type": "stream",
     "text": [
      "Job Name: svm-hyperparameter-t-231026-2208-010-0c868f02\n",
      "Hyperparameters: {'C': '3', 'kernel': '\"linear\"'}\n",
      "Validation Metric (validation:accuracy): {'MetricName': 'validation:accuracy', 'Value': 0.9066666960716248}\n",
      "\n",
      "Job Name: svm-hyperparameter-t-231026-2208-009-5ab292d9\n",
      "Hyperparameters: {'C': '1', 'kernel': '\"linear\"'}\n",
      "Validation Metric (validation:accuracy): {'MetricName': 'validation:accuracy', 'Value': 0.9066666960716248}\n",
      "\n",
      "Job Name: svm-hyperparameter-t-231026-2208-008-5410e77a\n",
      "Hyperparameters: {'C': '3', 'kernel': '\"poly\"'}\n",
      "Validation Metric (validation:accuracy): {'MetricName': 'validation:accuracy', 'Value': 0.9066666960716248}\n",
      "\n",
      "Job Name: svm-hyperparameter-t-231026-2208-007-2e76d9f6\n",
      "Hyperparameters: {'C': '3', 'kernel': '\"sigmoid\"'}\n",
      "Validation Metric (validation:accuracy): {'MetricName': 'validation:accuracy', 'Value': 0.9200000166893005}\n",
      "\n",
      "Job Name: svm-hyperparameter-t-231026-2208-006-4ba5c0a3\n",
      "Hyperparameters: {'C': '2', 'kernel': '\"rbf\"'}\n",
      "Validation Metric (validation:accuracy): {'MetricName': 'validation:accuracy', 'Value': 0.9066666960716248}\n",
      "\n",
      "Job Name: svm-hyperparameter-t-231026-2208-005-121fabd0\n",
      "Hyperparameters: {'C': '1', 'kernel': '\"rbf\"'}\n",
      "Validation Metric (validation:accuracy): {'MetricName': 'validation:accuracy', 'Value': 0.9066666960716248}\n",
      "\n",
      "Job Name: svm-hyperparameter-t-231026-2208-004-56f0ffbf\n",
      "Hyperparameters: {'C': '2', 'kernel': '\"linear\"'}\n",
      "Validation Metric (validation:accuracy): {'MetricName': 'validation:accuracy', 'Value': 0.9066666960716248}\n",
      "\n",
      "Job Name: svm-hyperparameter-t-231026-2208-003-d64da191\n",
      "Hyperparameters: {'C': '1', 'kernel': '\"sigmoid\"'}\n",
      "Validation Metric (validation:accuracy): {'MetricName': 'validation:accuracy', 'Value': 0.9200000166893005}\n",
      "\n",
      "Job Name: svm-hyperparameter-t-231026-2208-002-bc2dd0c6\n",
      "Hyperparameters: {'C': '2', 'kernel': '\"sigmoid\"'}\n",
      "Validation Metric (validation:accuracy): {'MetricName': 'validation:accuracy', 'Value': 0.9200000166893005}\n",
      "\n",
      "Job Name: svm-hyperparameter-t-231026-2208-001-d45d17c9\n",
      "Hyperparameters: {'C': '1', 'kernel': '\"poly\"'}\n",
      "Validation Metric (validation:accuracy): {'MetricName': 'validation:accuracy', 'Value': 0.9066666960716248}\n",
      "\n",
      "Training Job Name: svm-hyperparameter-t-231026-2208-007-2e76d9f6\n",
      "Hyperparameters:\n",
      "  C: 3\n",
      "  _tuning_objective_metric: validation:accuracy\n",
      "  kernel: \"sigmoid\"\n",
      "  sagemaker_container_log_level: 20\n",
      "  sagemaker_estimator_class_name: \"SKLearn\"\n",
      "  sagemaker_estimator_module: \"sagemaker.sklearn.estimator\"\n",
      "  sagemaker_job_name: \"svm-training-2023-10-26-22-08-06-898\"\n",
      "  sagemaker_program: \"svm-train.py\"\n",
      "  sagemaker_region: \"us-east-1\"\n",
      "  sagemaker_submit_directory: \"s3://sagemaker-us-east-1-977473325382/svm-training-2023-10-26-22-08-06-898/source/sourcedir.tar.gz\"\n",
      "Validation Metric (validation:accuracy): 0.9200\n"
     ]
    }
   ],
   "source": [
    "# Retrieve the details of the completed hyperparameter tuning job\n",
    "tuning_job_name = tuner.latest_tuning_job.job_name\n",
    "training_job_summaries = sm_boto3.list_training_jobs_for_hyper_parameter_tuning_job(\n",
    "    HyperParameterTuningJobName=tuning_job_name\n",
    ")['TrainingJobSummaries']\n",
    "\n",
    "# Get the best training job from SageMaker\n",
    "tuning_job_description = sm_boto3.describe_hyper_parameter_tuning_job(\n",
    "    HyperParameterTuningJobName=tuning_job_name\n",
    ")\n",
    "\n",
    "# Print hyperparameters and validation accuracy for each training job\n",
    "results = []\n",
    "for job_summary in training_job_summaries:\n",
    "    job_name = job_summary['TrainingJobName']\n",
    "    hyperparameters = job_summary['TunedHyperParameters']\n",
    "    validation_metric = job_summary['FinalHyperParameterTuningJobObjectiveMetric']\n",
    "\n",
    "    print(f\"Job Name: {job_name}\")\n",
    "    print(f\"Hyperparameters: {hyperparameters}\")\n",
    "    print(f\"Validation Metric ({objective_metric_name}): {validation_metric}\")\n",
    "    print(\"\")\n",
    "\n",
    "    results.append({\n",
    "        'TrainingJobName': job_name,\n",
    "        'Hyperparameters': hyperparameters,\n",
    "        'ValidationMetric': validation_metric\n",
    "    })\n",
    "\n",
    "# Retrieve the best training job based on SageMaker-selected objective metric\n",
    "best_training_job_name = tuner.best_training_job()\n",
    "best_training_job_description = sm_boto3.describe_training_job(TrainingJobName=best_training_job_name)\n",
    "best_hyperparameters = best_training_job_description['HyperParameters']\n",
    "best_validation_metric = best_training_job_description['FinalMetricDataList'][0]  # Assuming you want the first metric\n",
    "\n",
    "print(f\"Training Job Name: {best_training_job_name}\")\n",
    "print(\"Hyperparameters:\")\n",
    "for key, value in best_hyperparameters.items():\n",
    "    print(f\"  {key}: {value}\")\n",
    "print(f\"Validation Metric ({objective_metric_name}): {best_validation_metric['Value']:.4f}\")\n",
    "\n",
    "# Convert the results to a DataFrame for further analysis if needed\n",
    "results_df = pd.DataFrame(results)"
   ]
  },
  {
   "cell_type": "markdown",
   "id": "904eb9ac",
   "metadata": {},
   "source": [
    "# Create Endpoint for the best model"
   ]
  },
  {
   "cell_type": "code",
   "execution_count": 14,
   "id": "34e8f8f5",
   "metadata": {},
   "outputs": [
    {
     "name": "stdout",
     "output_type": "stream",
     "text": [
      "sagemaker.config INFO - Not applying SDK defaults from location: /etc/xdg/sagemaker/config.yaml\n",
      "sagemaker.config INFO - Not applying SDK defaults from location: /home/ec2-user/.config/sagemaker/config.yaml\n",
      "\n",
      "2023-10-26 22:16:05 Starting - Found matching resource for reuse\n",
      "2023-10-26 22:16:05 Downloading - Downloading input data\n",
      "2023-10-26 22:16:05 Training - Training image download completed. Training in progress.\n",
      "2023-10-26 22:16:05 Uploading - Uploading generated training model\n",
      "2023-10-26 22:16:05 Completed - Resource reused by training job: svm-hyperparameter-t-231026-2208-009-5ab292d9"
     ]
    },
    {
     "name": "stderr",
     "output_type": "stream",
     "text": [
      "INFO:sagemaker:Creating model with name: svm-hyperparameter-t-2023-10-26-22-17-20-188\n"
     ]
    },
    {
     "name": "stdout",
     "output_type": "stream",
     "text": [
      "\n"
     ]
    },
    {
     "name": "stderr",
     "output_type": "stream",
     "text": [
      "INFO:sagemaker:Creating endpoint-config with name tuned-svm-endpoint\n",
      "INFO:sagemaker:Creating endpoint with name tuned-svm-endpoint\n"
     ]
    },
    {
     "name": "stdout",
     "output_type": "stream",
     "text": [
      "----!"
     ]
    },
    {
     "name": "stderr",
     "output_type": "stream",
     "text": [
      "INFO:sagemaker:Deleting endpoint with name: svm-endpoint\n"
     ]
    }
   ],
   "source": [
    "best_model = estimator.attach(best_training_job_name)\n",
    "\n",
    "predictor = best_model.deploy(initial_instance_count=1, instance_type='ml.m5.large', endpoint_name='tuned-svm-endpoint')\n",
    "sess.delete_endpoint('svm-endpoint')"
   ]
  },
  {
   "cell_type": "markdown",
   "id": "bce70bd0",
   "metadata": {},
   "source": [
    "# Predict with the best model"
   ]
  },
  {
   "cell_type": "code",
   "execution_count": 15,
   "id": "0d5115de",
   "metadata": {},
   "outputs": [
    {
     "name": "stdout",
     "output_type": "stream",
     "text": [
      "              precision    recall  f1-score   support\n",
      "\n",
      "           0       0.95      0.93      0.94       136\n",
      "           1       0.91      0.94      0.93       114\n",
      "\n",
      "    accuracy                           0.93       250\n",
      "   macro avg       0.93      0.93      0.93       250\n",
      "weighted avg       0.93      0.93      0.93       250\n",
      "\n"
     ]
    },
    {
     "data": {
      "image/png": "[encoded data removed]",
      "text/plain": [
       "<Figure size 800x600 with 2 Axes>"
      ]
     },
     "metadata": {},
     "output_type": "display_data"
    },
    {
     "name": "stdout",
     "output_type": "stream",
     "text": [
      "Accuracy using Random Forest: 93.20%\n"
     ]
    }
   ],
   "source": [
    "predictions = predictor.predict(X_test)\n",
    "print(classification_report(y_test, predictions))\n",
    "\n",
    "cnf_matrix_rf = confusion_matrix(y_test, predictions)\n",
    "\n",
    "# Create a heatmap for the Random Forest confusion matrix\n",
    "plt.figure(figsize=(8, 6))\n",
    "sns.heatmap(cnf_matrix_rf, annot=True, cmap='Blues', fmt='d')\n",
    "plt.xlabel('Predicted')\n",
    "plt.ylabel('Actual')\n",
    "plt.title('Confusion Matrix (Random Forest)')\n",
    "plt.show()\n",
    "\n",
    "# Calculate and print accuracy\n",
    "acc_rf = accuracy_score(y_test, predictions)\n",
    "print(f\"Accuracy using Random Forest: {acc_rf * 100:.2f}%\")"
   ]
  }
 ],
 "metadata": {
  "kernelspec": {
   "display_name": "Python 3 (ipykernel)",
   "language": "python",
   "name": "python3"
  },
  "language_info": {
   "codemirror_mode": {
    "name": "ipython",
    "version": 3
   },
   "file_extension": ".py",
   "mimetype": "text/x-python",
   "name": "python",
   "nbconvert_exporter": "python",
   "pygments_lexer": "ipython3",
   "version": "3.9.17"
  }
 },
 "nbformat": 4,
 "nbformat_minor": 5
}
